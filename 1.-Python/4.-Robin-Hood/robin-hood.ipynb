{
 "cells": [
  {
   "cell_type": "markdown",
   "metadata": {},
   "source": [
    "<img src=\"https://bit.ly/2VnXWr2\" width=\"100\" align=\"left\"/>"
   ]
  },
  {
   "cell_type": "markdown",
   "metadata": {},
   "source": [
    "# Robin Hood\n",
    "Robin Hood has entered a competition to win the archery contest in Sherwood. With his bow and arrows, he needs to shoot on a target and try to hit as close as possible to the center.\n",
    "\n",
    "![](images/arrows.jpg)\n",
    "\n",
    "## Context\n",
    "In this challenge, the landing position of arrows shot by archers in the competition will be represented using 2-dimensional coordinates. \n",
    "\n",
    "In the 2-dimensional space, a point can be defined by a pair of values that correspond to the horizontal coordinate (x) and the vertical coordinate (y). For example, in our case, an arrow that hits the center of the archery target will land in position (0, 0) on the coordinate axes. \n",
    "\n",
    "The space can be divided into 4 zones (quadrants): Q1, Q2, Q3, Q4. If a point is in Q1, both its x coordinate and y coordinate are positive. Any point with a null x or y coordinate is considered to not belong to any quadrant. \n",
    "\n",
    "If you want to know more about the cartesian coordinate system, you can check this [link](https://en.wikipedia.org/wiki/Cartesian_coordinate_system). \n",
    "\n",
    "## Tools\n",
    "You don't necessarily need to use all the tools. Maybe you opt to use some of them or completely different ones, they are given to help you shape the exercise. Programming exercises can be solved in many different ways.\n",
    "* Data structures: **lists, sets, tuples**\n",
    "* Conditional statements: **if-elif-else**\n",
    "* Loop: **while/for**\n",
    "* Minimum (optional sorting)\n",
    "\n",
    "## Tasks\n",
    "Robin Hood has hit the following points:"
   ]
  },
  {
   "cell_type": "code",
   "execution_count": 1,
   "metadata": {},
   "outputs": [],
   "source": [
    "points = [(4, 5), (-0, 2), (4, 7), (1, -3), (3, -2), (4, 5), (3, 2), (5, 7), (-5, 7), (2, 2), (-4, 5), (0, -2),\n",
    "          (-4, 7), (-1, 3), (-3, 2), (-4, -5), (-3, 2), (5, 7), (5, 7), (2, 2), (9, 9), (-8, -9)]"
   ]
  },
  {
   "cell_type": "markdown",
   "metadata": {},
   "source": [
    "#### 1. Robin Hood is famous for hitting an arrow with another arrow. Find the coordinates of the points where an arrow hits another arrow."
   ]
  },
  {
   "cell_type": "code",
   "execution_count": 2,
   "metadata": {},
   "outputs": [
    {
     "name": "stdout",
     "output_type": "stream",
     "text": [
      "hit another arrow:  (4, 5) hit another arrow:  (-3, 2) hit another arrow:  (5, 7) hit another arrow:  (5, 7) hit another arrow:  (2, 2) "
     ]
    }
   ],
   "source": [
    "touche =[]\n",
    " \n",
    "for i in points:\n",
    "    if i not in touche:\n",
    "        touche.append(i)        \n",
    "    else:\n",
    "        print(\"hit another arrow: \", i,end=' ')"
   ]
  },
  {
   "cell_type": "markdown",
   "metadata": {},
   "source": [
    "#### 2. Calculate how many arrows have fallen in each quadrant. \n",
    "**Note**: the arrows that fall in the axis (x=0 or y=0) don't belong to any quadrant."
   ]
  },
  {
   "cell_type": "code",
   "execution_count": 3,
   "metadata": {},
   "outputs": [
    {
     "name": "stdout",
     "output_type": "stream",
     "text": [
      "Q1: 1 hits --> [(4, 5)]\n",
      "[(0, 2)] don't belong to a quadrant.\n",
      "Q1: 2 hits --> [(4, 5), (4, 7)]\n",
      "Q2: 1 hits --> [(1, -3)]\n",
      "Q2: 2 hits --> [(1, -3), (3, -2)]\n",
      "Q1: 3 hits --> [(4, 5), (4, 7), (4, 5)]\n",
      "Q1: 4 hits --> [(4, 5), (4, 7), (4, 5), (3, 2)]\n",
      "Q1: 5 hits --> [(4, 5), (4, 7), (4, 5), (3, 2), (5, 7)]\n",
      "Q3: 1 hits --> [(-5, 7)]\n",
      "Q1: 6 hits --> [(4, 5), (4, 7), (4, 5), (3, 2), (5, 7), (2, 2)]\n",
      "Q3: 2 hits --> [(-5, 7), (-4, 5)]\n",
      "[(0, 2), (0, -2)] don't belong to a quadrant.\n",
      "Q3: 3 hits --> [(-5, 7), (-4, 5), (-4, 7)]\n",
      "Q3: 4 hits --> [(-5, 7), (-4, 5), (-4, 7), (-1, 3)]\n",
      "Q3: 5 hits --> [(-5, 7), (-4, 5), (-4, 7), (-1, 3), (-3, 2)]\n",
      "Q4: 1 hits --> [(-4, -5)]\n",
      "Q3: 6 hits --> [(-5, 7), (-4, 5), (-4, 7), (-1, 3), (-3, 2), (-3, 2)]\n",
      "Q1: 7 hits --> [(4, 5), (4, 7), (4, 5), (3, 2), (5, 7), (2, 2), (5, 7)]\n",
      "Q1: 8 hits --> [(4, 5), (4, 7), (4, 5), (3, 2), (5, 7), (2, 2), (5, 7), (5, 7)]\n",
      "Q1: 9 hits --> [(4, 5), (4, 7), (4, 5), (3, 2), (5, 7), (2, 2), (5, 7), (5, 7), (2, 2)]\n",
      "Q1: 10 hits --> [(4, 5), (4, 7), (4, 5), (3, 2), (5, 7), (2, 2), (5, 7), (5, 7), (2, 2), (9, 9)]\n",
      "Q4: 2 hits --> [(-4, -5), (-8, -9)]\n"
     ]
    }
   ],
   "source": [
    "points = [(4, 5), (-0, 2), (4, 7), (1, -3), (3, -2), (4, 5), (3, 2), (5, 7), (-5, 7), (2, 2), (-4, 5), (0, -2),\n",
    "          (-4, 7), (-1, 3), (-3, 2), (-4, -5), (-3, 2), (5, 7), (5, 7), (2, 2), (9, 9), (-8, -9)]\n",
    "quadrant1=[]\n",
    "quadrant2=[]\n",
    "quadrant3=[]\n",
    "quadrant4=[]\n",
    "noquadrant=[]\n",
    "\n",
    "for i in points:\n",
    "    if (i[0]>0)  & (i[1]>0):\n",
    "        quadrant1.append(i)\n",
    "        print(\"Q1:\",len(quadrant1), \"hits\", \"-->\",quadrant1)             \n",
    "    if (i[0]>0) & (i[1]<0):\n",
    "        quadrant2.append(i)\n",
    "        print(\"Q2:\",len(quadrant2), \"hits\", \"-->\",quadrant2)\n",
    "    if (i[0]<0) & (i[1]>0):\n",
    "        quadrant3.append(i)\n",
    "        print(\"Q3:\",len(quadrant3), \"hits\", \"-->\",quadrant3)\n",
    "    if (i[0]<0) & (i[1]<0):\n",
    "        quadrant4.append(i)\n",
    "        print(\"Q4:\",len(quadrant4), \"hits\", \"-->\",quadrant4)\n",
    "    if (i[0]==0) | (i[1]==0):\n",
    "        noquadrant.append(i)\n",
    "        print(noquadrant, \"don't belong to a quadrant.\")\n",
    "\n",
    "        \n",
    "#Q1 10 hits\n",
    "#Q2 2 hits\n",
    "#Q3 6 hits\n",
    "#Q4 2 hits\n",
    "#NO QUADRANTS 2 hits"
   ]
  },
  {
   "cell_type": "markdown",
   "metadata": {},
   "source": [
    "#### 3. Find the point closest to the center. Calculate its distance to the center. \n",
    "Take into account that there might be more than one point at the minimum distance to the center.\n",
    "\n",
    "**Hint**: Use the Euclidean distance. You can find more information about it [here](https://en.wikipedia.org/wiki/Euclidean_distance).  \n",
    "**Hint**: Defining a function that calculates the distance to the center can help."
   ]
  },
  {
   "cell_type": "code",
   "execution_count": null,
   "metadata": {},
   "outputs": [],
   "source": []
  },
  {
   "cell_type": "markdown",
   "metadata": {},
   "source": [
    "#### 4. If the archery target has a radius of 9, calculate the number of arrows that won't hit the target. \n",
    "**Hint**: Use the function created in step 3. "
   ]
  },
  {
   "cell_type": "code",
   "execution_count": null,
   "metadata": {},
   "outputs": [],
   "source": []
  }
 ],
 "metadata": {
  "kernelspec": {
   "display_name": "Python 3",
   "language": "python",
   "name": "python3"
  },
  "language_info": {
   "codemirror_mode": {
    "name": "ipython",
    "version": 3
   },
   "file_extension": ".py",
   "mimetype": "text/x-python",
   "name": "python",
   "nbconvert_exporter": "python",
   "pygments_lexer": "ipython3",
   "version": "3.8.8"
  }
 },
 "nbformat": 4,
 "nbformat_minor": 2
}
